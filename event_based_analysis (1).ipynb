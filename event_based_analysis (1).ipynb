{
 "cells": [
  {
   "cell_type": "markdown",
   "metadata": {},
   "source": [
    "# **Event Based Analysis**\n",
    "\n",
    "## **Project Overview**\n",
    "\n",
    "This project focuses on analyzing user behavior in a food-tech mobile application through two complementary approaches: funnel analysis and an A/A/B experiment.\n",
    "\n",
    "### **Sales Funnel Analysis**\n",
    "- Identify the main events recorded in the app and their sequence.\n",
    "- Measure how many users progress through each stage of the funnel, from first interaction to payment.\n",
    "- Quantify user drop-offs at every step and highlight the stages where most users churn.\n",
    "- Estimate the overall conversion rate from entry to successful purchase.\n",
    "\n",
    "### **A/A/B Test Evaluation**\n",
    "\n",
    "- Users were randomly divided into three groups: two control groups (IDs 246 and 247, with the old font) and one test group (ID 248, with the new font).\n",
    "- The A/A comparison allows us to validate data quality and test reliability by checking whether both control groups behave consistently.\n",
    "- The A/B comparison assesses the effect of introducing new fonts on key user actions and overall conversion.\n",
    "- Statistical significance tests are applied to determine whether observed differences are real or due to chance.\n",
    "\n",
    "The overall goal is twofold: to detect weaknesses in the conversion funnel and to support design decisions with reliable data evidence. This way, the company can better understand where users struggle in the app and whether UI changes, such as typography, improve or hinder engagement and purchases."
   ]
  },
  {
   "cell_type": "code",
   "execution_count": 1,
   "metadata": {},
   "outputs": [],
   "source": [
    "#Import libraries\n",
    "import pandas as pd\n",
    "import datetime as dt\n",
    "import matplotlib.pyplot as plt\n",
    "import numpy as np\n",
    "import scipy.stats as stats"
   ]
  },
  {
   "cell_type": "code",
   "execution_count": 2,
   "metadata": {},
   "outputs": [
    {
     "name": "stdout",
     "output_type": "stream",
     "text": [
      "<class 'pandas.core.frame.DataFrame'>\n",
      "RangeIndex: 244126 entries, 0 to 244125\n",
      "Data columns (total 4 columns):\n",
      " #   Column          Non-Null Count   Dtype \n",
      "---  ------          --------------   ----- \n",
      " 0   EventName       244126 non-null  object\n",
      " 1   DeviceIDHash    244126 non-null  int64 \n",
      " 2   EventTimestamp  244126 non-null  int64 \n",
      " 3   ExpId           244126 non-null  int64 \n",
      "dtypes: int64(3), object(1)\n",
      "memory usage: 7.5+ MB\n",
      "                 EventName         DeviceIDHash  EventTimestamp  ExpId\n",
      "0         MainScreenAppear  4575588528974610257      1564029816    246\n",
      "1         MainScreenAppear  7416695313311560658      1564053102    246\n",
      "2  PaymentScreenSuccessful  3518123091307005509      1564054127    248\n",
      "3         CartScreenAppear  3518123091307005509      1564054127    248\n",
      "4  PaymentScreenSuccessful  6217807653094995999      1564055322    248\n"
     ]
    }
   ],
   "source": [
    "#Create df from csv file\n",
    "data = pd.read_csv('logs_exp_us _aab.csv', sep = '\\t')\n",
    "\n",
    "#Check df's data\n",
    "data.info()\n",
    "print(data.head(5))"
   ]
  },
  {
   "cell_type": "code",
   "execution_count": 3,
   "metadata": {},
   "outputs": [
    {
     "name": "stdout",
     "output_type": "stream",
     "text": [
      "<class 'pandas.core.frame.DataFrame'>\n",
      "RangeIndex: 244126 entries, 0 to 244125\n",
      "Data columns (total 4 columns):\n",
      " #   Column      Non-Null Count   Dtype \n",
      "---  ------      --------------   ----- \n",
      " 0   event_name  244126 non-null  object\n",
      " 1   user_id     244126 non-null  int64 \n",
      " 2   event_time  244126 non-null  int64 \n",
      " 3   group       244126 non-null  int64 \n",
      "dtypes: int64(3), object(1)\n",
      "memory usage: 7.5+ MB\n"
     ]
    },
    {
     "data": {
      "text/html": [
       "<div>\n",
       "<style scoped>\n",
       "    .dataframe tbody tr th:only-of-type {\n",
       "        vertical-align: middle;\n",
       "    }\n",
       "\n",
       "    .dataframe tbody tr th {\n",
       "        vertical-align: top;\n",
       "    }\n",
       "\n",
       "    .dataframe thead th {\n",
       "        text-align: right;\n",
       "    }\n",
       "</style>\n",
       "<table border=\"1\" class=\"dataframe\">\n",
       "  <thead>\n",
       "    <tr style=\"text-align: right;\">\n",
       "      <th></th>\n",
       "      <th>event_name</th>\n",
       "      <th>user_id</th>\n",
       "      <th>event_time</th>\n",
       "      <th>group</th>\n",
       "    </tr>\n",
       "  </thead>\n",
       "  <tbody>\n",
       "    <tr>\n",
       "      <th>0</th>\n",
       "      <td>MainScreenAppear</td>\n",
       "      <td>4575588528974610257</td>\n",
       "      <td>1564029816</td>\n",
       "      <td>246</td>\n",
       "    </tr>\n",
       "    <tr>\n",
       "      <th>1</th>\n",
       "      <td>MainScreenAppear</td>\n",
       "      <td>7416695313311560658</td>\n",
       "      <td>1564053102</td>\n",
       "      <td>246</td>\n",
       "    </tr>\n",
       "    <tr>\n",
       "      <th>2</th>\n",
       "      <td>PaymentScreenSuccessful</td>\n",
       "      <td>3518123091307005509</td>\n",
       "      <td>1564054127</td>\n",
       "      <td>248</td>\n",
       "    </tr>\n",
       "    <tr>\n",
       "      <th>3</th>\n",
       "      <td>CartScreenAppear</td>\n",
       "      <td>3518123091307005509</td>\n",
       "      <td>1564054127</td>\n",
       "      <td>248</td>\n",
       "    </tr>\n",
       "    <tr>\n",
       "      <th>4</th>\n",
       "      <td>PaymentScreenSuccessful</td>\n",
       "      <td>6217807653094995999</td>\n",
       "      <td>1564055322</td>\n",
       "      <td>248</td>\n",
       "    </tr>\n",
       "  </tbody>\n",
       "</table>\n",
       "</div>"
      ],
      "text/plain": [
       "                event_name              user_id  event_time  group\n",
       "0         MainScreenAppear  4575588528974610257  1564029816    246\n",
       "1         MainScreenAppear  7416695313311560658  1564053102    246\n",
       "2  PaymentScreenSuccessful  3518123091307005509  1564054127    248\n",
       "3         CartScreenAppear  3518123091307005509  1564054127    248\n",
       "4  PaymentScreenSuccessful  6217807653094995999  1564055322    248"
      ]
     },
     "execution_count": 3,
     "metadata": {},
     "output_type": "execute_result"
    }
   ],
   "source": [
    "#Change column names\n",
    "data.columns = ['event_name', 'user_id', 'event_time', 'group']\n",
    "\n",
    "#Check changes\n",
    "data.info()\n",
    "data.head(5)"
   ]
  },
  {
   "cell_type": "code",
   "execution_count": 4,
   "metadata": {},
   "outputs": [
    {
     "data": {
      "text/html": [
       "<div>\n",
       "<style scoped>\n",
       "    .dataframe tbody tr th:only-of-type {\n",
       "        vertical-align: middle;\n",
       "    }\n",
       "\n",
       "    .dataframe tbody tr th {\n",
       "        vertical-align: top;\n",
       "    }\n",
       "\n",
       "    .dataframe thead th {\n",
       "        text-align: right;\n",
       "    }\n",
       "</style>\n",
       "<table border=\"1\" class=\"dataframe\">\n",
       "  <thead>\n",
       "    <tr style=\"text-align: right;\">\n",
       "      <th></th>\n",
       "      <th>event_name</th>\n",
       "      <th>user_id</th>\n",
       "      <th>event_time</th>\n",
       "      <th>group</th>\n",
       "    </tr>\n",
       "  </thead>\n",
       "  <tbody>\n",
       "    <tr>\n",
       "      <th>0</th>\n",
       "      <td>MainScreenAppear</td>\n",
       "      <td>4575588528974610257</td>\n",
       "      <td>2019-07-25 04:43:36</td>\n",
       "      <td>246</td>\n",
       "    </tr>\n",
       "    <tr>\n",
       "      <th>1</th>\n",
       "      <td>MainScreenAppear</td>\n",
       "      <td>7416695313311560658</td>\n",
       "      <td>2019-07-25 11:11:42</td>\n",
       "      <td>246</td>\n",
       "    </tr>\n",
       "    <tr>\n",
       "      <th>2</th>\n",
       "      <td>PaymentScreenSuccessful</td>\n",
       "      <td>3518123091307005509</td>\n",
       "      <td>2019-07-25 11:28:47</td>\n",
       "      <td>248</td>\n",
       "    </tr>\n",
       "    <tr>\n",
       "      <th>3</th>\n",
       "      <td>CartScreenAppear</td>\n",
       "      <td>3518123091307005509</td>\n",
       "      <td>2019-07-25 11:28:47</td>\n",
       "      <td>248</td>\n",
       "    </tr>\n",
       "    <tr>\n",
       "      <th>4</th>\n",
       "      <td>PaymentScreenSuccessful</td>\n",
       "      <td>6217807653094995999</td>\n",
       "      <td>2019-07-25 11:48:42</td>\n",
       "      <td>248</td>\n",
       "    </tr>\n",
       "  </tbody>\n",
       "</table>\n",
       "</div>"
      ],
      "text/plain": [
       "                event_name              user_id          event_time  group\n",
       "0         MainScreenAppear  4575588528974610257 2019-07-25 04:43:36    246\n",
       "1         MainScreenAppear  7416695313311560658 2019-07-25 11:11:42    246\n",
       "2  PaymentScreenSuccessful  3518123091307005509 2019-07-25 11:28:47    248\n",
       "3         CartScreenAppear  3518123091307005509 2019-07-25 11:28:47    248\n",
       "4  PaymentScreenSuccessful  6217807653094995999 2019-07-25 11:48:42    248"
      ]
     },
     "execution_count": 4,
     "metadata": {},
     "output_type": "execute_result"
    }
   ],
   "source": [
    "#Change 'event_time' dtype from str to datetime/timestamp\n",
    "data['event_time'] = pd.to_datetime(data['event_time'], unit = 's')\n",
    "\n",
    "#Check change\n",
    "data.head(5)"
   ]
  },
  {
   "cell_type": "code",
   "execution_count": 5,
   "metadata": {},
   "outputs": [
    {
     "name": "stdout",
     "output_type": "stream",
     "text": [
      "<class 'pandas.core.frame.DataFrame'>\n",
      "RangeIndex: 244126 entries, 0 to 244125\n",
      "Data columns (total 5 columns):\n",
      " #   Column      Non-Null Count   Dtype         \n",
      "---  ------      --------------   -----         \n",
      " 0   event_name  244126 non-null  object        \n",
      " 1   user_id     244126 non-null  int64         \n",
      " 2   event_time  244126 non-null  datetime64[ns]\n",
      " 3   group       244126 non-null  int64         \n",
      " 4   event_date  244126 non-null  object        \n",
      "dtypes: datetime64[ns](1), int64(2), object(2)\n",
      "memory usage: 9.3+ MB\n"
     ]
    },
    {
     "data": {
      "text/html": [
       "<div>\n",
       "<style scoped>\n",
       "    .dataframe tbody tr th:only-of-type {\n",
       "        vertical-align: middle;\n",
       "    }\n",
       "\n",
       "    .dataframe tbody tr th {\n",
       "        vertical-align: top;\n",
       "    }\n",
       "\n",
       "    .dataframe thead th {\n",
       "        text-align: right;\n",
       "    }\n",
       "</style>\n",
       "<table border=\"1\" class=\"dataframe\">\n",
       "  <thead>\n",
       "    <tr style=\"text-align: right;\">\n",
       "      <th></th>\n",
       "      <th>event_name</th>\n",
       "      <th>user_id</th>\n",
       "      <th>event_time</th>\n",
       "      <th>group</th>\n",
       "      <th>event_date</th>\n",
       "    </tr>\n",
       "  </thead>\n",
       "  <tbody>\n",
       "    <tr>\n",
       "      <th>0</th>\n",
       "      <td>MainScreenAppear</td>\n",
       "      <td>4575588528974610257</td>\n",
       "      <td>2019-07-25 04:43:36</td>\n",
       "      <td>246</td>\n",
       "      <td>2019-07-25</td>\n",
       "    </tr>\n",
       "    <tr>\n",
       "      <th>1</th>\n",
       "      <td>MainScreenAppear</td>\n",
       "      <td>7416695313311560658</td>\n",
       "      <td>2019-07-25 11:11:42</td>\n",
       "      <td>246</td>\n",
       "      <td>2019-07-25</td>\n",
       "    </tr>\n",
       "    <tr>\n",
       "      <th>2</th>\n",
       "      <td>PaymentScreenSuccessful</td>\n",
       "      <td>3518123091307005509</td>\n",
       "      <td>2019-07-25 11:28:47</td>\n",
       "      <td>248</td>\n",
       "      <td>2019-07-25</td>\n",
       "    </tr>\n",
       "    <tr>\n",
       "      <th>3</th>\n",
       "      <td>CartScreenAppear</td>\n",
       "      <td>3518123091307005509</td>\n",
       "      <td>2019-07-25 11:28:47</td>\n",
       "      <td>248</td>\n",
       "      <td>2019-07-25</td>\n",
       "    </tr>\n",
       "    <tr>\n",
       "      <th>4</th>\n",
       "      <td>PaymentScreenSuccessful</td>\n",
       "      <td>6217807653094995999</td>\n",
       "      <td>2019-07-25 11:48:42</td>\n",
       "      <td>248</td>\n",
       "      <td>2019-07-25</td>\n",
       "    </tr>\n",
       "  </tbody>\n",
       "</table>\n",
       "</div>"
      ],
      "text/plain": [
       "                event_name              user_id          event_time  group  \\\n",
       "0         MainScreenAppear  4575588528974610257 2019-07-25 04:43:36    246   \n",
       "1         MainScreenAppear  7416695313311560658 2019-07-25 11:11:42    246   \n",
       "2  PaymentScreenSuccessful  3518123091307005509 2019-07-25 11:28:47    248   \n",
       "3         CartScreenAppear  3518123091307005509 2019-07-25 11:28:47    248   \n",
       "4  PaymentScreenSuccessful  6217807653094995999 2019-07-25 11:48:42    248   \n",
       "\n",
       "   event_date  \n",
       "0  2019-07-25  \n",
       "1  2019-07-25  \n",
       "2  2019-07-25  \n",
       "3  2019-07-25  \n",
       "4  2019-07-25  "
      ]
     },
     "execution_count": 5,
     "metadata": {},
     "output_type": "execute_result"
    }
   ],
   "source": [
    "#Create 'event_date' from 'event_time' \n",
    "data['event_date'] = data['event_time'].dt.date\n",
    "\n",
    "#Check changes\n",
    "data.info()\n",
    "data.head(5)"
   ]
  },
  {
   "cell_type": "code",
   "execution_count": 6,
   "metadata": {},
   "outputs": [
    {
     "name": "stdout",
     "output_type": "stream",
     "text": [
      "<class 'pandas.core.frame.DataFrame'>\n",
      "RangeIndex: 244126 entries, 0 to 244125\n",
      "Data columns (total 5 columns):\n",
      " #   Column      Non-Null Count   Dtype         \n",
      "---  ------      --------------   -----         \n",
      " 0   event_name  244126 non-null  object        \n",
      " 1   user_id     244126 non-null  int64         \n",
      " 2   event_time  244126 non-null  datetime64[ns]\n",
      " 3   group       244126 non-null  int64         \n",
      " 4   event_date  244126 non-null  datetime64[ns]\n",
      "dtypes: datetime64[ns](2), int64(2), object(1)\n",
      "memory usage: 9.3+ MB\n"
     ]
    }
   ],
   "source": [
    "#Change 'event_date' dtype from str to datetime \n",
    "data['event_date'] = pd.to_datetime(data['event_date'])\n",
    "\n",
    "#Check change\n",
    "data.info()"
   ]
  },
  {
   "cell_type": "code",
   "execution_count": 7,
   "metadata": {},
   "outputs": [
    {
     "name": "stdout",
     "output_type": "stream",
     "text": [
      "Unique Events:  5\n",
      "Events:  ['MainScreenAppear' 'PaymentScreenSuccessful' 'CartScreenAppear'\n",
      " 'OffersScreenAppear' 'Tutorial']\n",
      "Unique users:  7551\n"
     ]
    }
   ],
   "source": [
    "#Find test's unique events\n",
    "print('Unique Events: ', data['event_name'].nunique())\n",
    "\n",
    "#Find event names \n",
    "events = data['event_name'].unique()\n",
    "print('Events: ', events)\n",
    "\n",
    "#Find unique users\n",
    "print('Unique users: ', data['user_id'].nunique())"
   ]
  },
  {
   "cell_type": "code",
   "execution_count": 8,
   "metadata": {},
   "outputs": [
    {
     "name": "stdout",
     "output_type": "stream",
     "text": [
      "Average events per user: 32.33\n"
     ]
    }
   ],
   "source": [
    "#Encontrar el promedio de eventos por usuario\n",
    "avg_events = data['event_name'].count() / data['user_id'].nunique()\n",
    "print(f'Average events per user: {avg_events:.2f}')"
   ]
  },
  {
   "cell_type": "code",
   "execution_count": 9,
   "metadata": {},
   "outputs": [
    {
     "name": "stdout",
     "output_type": "stream",
     "text": [
      "user_id\n",
      "6888746892508752         1\n",
      "6909561520679493         5\n",
      "6922444491712477        47\n",
      "7435777799948366         6\n",
      "7702139951469979       137\n",
      "                      ... \n",
      "9217594193087726423      9\n",
      "9219463515465815368     17\n",
      "9220879493065341500      7\n",
      "9221926045299980007      7\n",
      "9222603179720523844     59\n",
      "Name: event_name, Length: 7551, dtype: int64\n"
     ]
    }
   ],
   "source": [
    "#Find events per user\n",
    "events_per_user = data.groupby('user_id')['event_name'].count()\n",
    "print(events_per_user)"
   ]
  },
  {
   "cell_type": "code",
   "execution_count": 10,
   "metadata": {},
   "outputs": [
    {
     "name": "stdout",
     "output_type": "stream",
     "text": [
      "Max Date:  2019-08-07 00:00:00\n",
      "Min Date:  2019-07-25 00:00:00\n"
     ]
    }
   ],
   "source": [
    "#Find max & min date of the test\n",
    "print('Max Date: ', data['event_date'].max())\n",
    "print('Min Date: ', data['event_date'].min())"
   ]
  },
  {
   "cell_type": "code",
   "execution_count": 11,
   "metadata": {},
   "outputs": [
    {
     "data": {
      "image/png": "[encoded data removed]",
      "text/plain": [
       "<Figure size 640x480 with 1 Axes>"
      ]
     },
     "metadata": {},
     "output_type": "display_data"
    }
   ],
   "source": [
    "#PLot histogram to find relevant dates for the test \n",
    "plt.hist(data['event_date'], bins = 14)\n",
    "plt.title('A/A/B Test Dates')\n",
    "plt.xticks(rotation = 90)\n",
    "plt.show()"
   ]
  },
  {
   "cell_type": "markdown",
   "metadata": {},
   "source": [
    "It appears that the dates with the most relevant information are from August 1st onwards, so information from that date onwards will be used."
   ]
  },
  {
   "cell_type": "code",
   "execution_count": 12,
   "metadata": {},
   "outputs": [
    {
     "name": "stdout",
     "output_type": "stream",
     "text": [
      "<class 'pandas.core.frame.DataFrame'>\n",
      "RangeIndex: 241298 entries, 0 to 241297\n",
      "Data columns (total 6 columns):\n",
      " #   Column      Non-Null Count   Dtype         \n",
      "---  ------      --------------   -----         \n",
      " 0   index       241298 non-null  int64         \n",
      " 1   event_name  241298 non-null  object        \n",
      " 2   user_id     241298 non-null  int64         \n",
      " 3   event_time  241298 non-null  datetime64[ns]\n",
      " 4   group       241298 non-null  int64         \n",
      " 5   event_date  241298 non-null  datetime64[ns]\n",
      "dtypes: datetime64[ns](2), int64(3), object(1)\n",
      "memory usage: 11.0+ MB\n"
     ]
    },
    {
     "data": {
      "text/html": [
       "<div>\n",
       "<style scoped>\n",
       "    .dataframe tbody tr th:only-of-type {\n",
       "        vertical-align: middle;\n",
       "    }\n",
       "\n",
       "    .dataframe tbody tr th {\n",
       "        vertical-align: top;\n",
       "    }\n",
       "\n",
       "    .dataframe thead th {\n",
       "        text-align: right;\n",
       "    }\n",
       "</style>\n",
       "<table border=\"1\" class=\"dataframe\">\n",
       "  <thead>\n",
       "    <tr style=\"text-align: right;\">\n",
       "      <th></th>\n",
       "      <th>index</th>\n",
       "      <th>event_name</th>\n",
       "      <th>user_id</th>\n",
       "      <th>event_time</th>\n",
       "      <th>group</th>\n",
       "      <th>event_date</th>\n",
       "    </tr>\n",
       "  </thead>\n",
       "  <tbody>\n",
       "    <tr>\n",
       "      <th>0</th>\n",
       "      <td>2828</td>\n",
       "      <td>Tutorial</td>\n",
       "      <td>3737462046622621720</td>\n",
       "      <td>2019-08-01 00:07:28</td>\n",
       "      <td>246</td>\n",
       "      <td>2019-08-01</td>\n",
       "    </tr>\n",
       "    <tr>\n",
       "      <th>1</th>\n",
       "      <td>2829</td>\n",
       "      <td>MainScreenAppear</td>\n",
       "      <td>3737462046622621720</td>\n",
       "      <td>2019-08-01 00:08:00</td>\n",
       "      <td>246</td>\n",
       "      <td>2019-08-01</td>\n",
       "    </tr>\n",
       "    <tr>\n",
       "      <th>2</th>\n",
       "      <td>2830</td>\n",
       "      <td>MainScreenAppear</td>\n",
       "      <td>3737462046622621720</td>\n",
       "      <td>2019-08-01 00:08:55</td>\n",
       "      <td>246</td>\n",
       "      <td>2019-08-01</td>\n",
       "    </tr>\n",
       "    <tr>\n",
       "      <th>3</th>\n",
       "      <td>2831</td>\n",
       "      <td>OffersScreenAppear</td>\n",
       "      <td>3737462046622621720</td>\n",
       "      <td>2019-08-01 00:08:58</td>\n",
       "      <td>246</td>\n",
       "      <td>2019-08-01</td>\n",
       "    </tr>\n",
       "    <tr>\n",
       "      <th>4</th>\n",
       "      <td>2832</td>\n",
       "      <td>MainScreenAppear</td>\n",
       "      <td>1433840883824088890</td>\n",
       "      <td>2019-08-01 00:08:59</td>\n",
       "      <td>247</td>\n",
       "      <td>2019-08-01</td>\n",
       "    </tr>\n",
       "  </tbody>\n",
       "</table>\n",
       "</div>"
      ],
      "text/plain": [
       "   index          event_name              user_id          event_time  group  \\\n",
       "0   2828            Tutorial  3737462046622621720 2019-08-01 00:07:28    246   \n",
       "1   2829    MainScreenAppear  3737462046622621720 2019-08-01 00:08:00    246   \n",
       "2   2830    MainScreenAppear  3737462046622621720 2019-08-01 00:08:55    246   \n",
       "3   2831  OffersScreenAppear  3737462046622621720 2019-08-01 00:08:58    246   \n",
       "4   2832    MainScreenAppear  1433840883824088890 2019-08-01 00:08:59    247   \n",
       "\n",
       "  event_date  \n",
       "0 2019-08-01  \n",
       "1 2019-08-01  \n",
       "2 2019-08-01  \n",
       "3 2019-08-01  \n",
       "4 2019-08-01  "
      ]
     },
     "execution_count": 12,
     "metadata": {},
     "output_type": "execute_result"
    }
   ],
   "source": [
    "#Filter data by relevant dates\n",
    "data = data[data['event_date'] > '2019-07-31'].reset_index()\n",
    "\n",
    "#Check changes\n",
    "data.info()\n",
    "data.head(5)"
   ]
  },
  {
   "cell_type": "markdown",
   "metadata": {},
   "source": [
    "With the date filtering starting on August 1, just over 3,000 lines were lost in the data file. This is not a significant loss considering the current data file has 241,297 lines of information, a loss of just over 1%. The integrity of the data is maintained in terms of quantity."
   ]
  },
  {
   "cell_type": "code",
   "execution_count": 13,
   "metadata": {},
   "outputs": [
    {
     "name": "stdout",
     "output_type": "stream",
     "text": [
      "Test Groups:  3\n"
     ]
    }
   ],
   "source": [
    "#Check that the test's three groups are still in the df after dropping irrelevant dates\n",
    "print('Test Groups: ', data['group'].nunique())"
   ]
  },
  {
   "cell_type": "code",
   "execution_count": 14,
   "metadata": {},
   "outputs": [
    {
     "name": "stdout",
     "output_type": "stream",
     "text": [
      "event_name\n",
      "MainScreenAppear           117431\n",
      "OffersScreenAppear          46350\n",
      "CartScreenAppear            42365\n",
      "PaymentScreenSuccessful     34113\n",
      "Tutorial                     1039\n",
      "Name: event_name, dtype: int64\n"
     ]
    }
   ],
   "source": [
    "#Find frequency for each event\n",
    "event_frequency = data.groupby('event_name')['event_name'].count()\n",
    "print(event_frequency.sort_values(ascending = False))"
   ]
  },
  {
   "cell_type": "code",
   "execution_count": 15,
   "metadata": {},
   "outputs": [
    {
     "name": "stdout",
     "output_type": "stream",
     "text": [
      "                event_name  user_id\n",
      "0         CartScreenAppear     3734\n",
      "1         MainScreenAppear     7419\n",
      "2       OffersScreenAppear     4593\n",
      "3  PaymentScreenSuccessful     3539\n",
      "4                 Tutorial      840\n"
     ]
    }
   ],
   "source": [
    "#Find unique users for each event\n",
    "event_frequency_by_user = data.groupby('event_name')['user_id'].nunique()\n",
    "event_frequency_by_user = event_frequency_by_user.to_frame().reset_index()\n",
    "print(event_frequency_by_user)"
   ]
  },
  {
   "cell_type": "code",
   "execution_count": 16,
   "metadata": {},
   "outputs": [
    {
     "name": "stdout",
     "output_type": "stream",
     "text": [
      "                event_name  users\n",
      "1         MainScreenAppear   7419\n",
      "2       OffersScreenAppear   4593\n",
      "0         CartScreenAppear   3734\n",
      "3  PaymentScreenSuccessful   3539\n",
      "4                 Tutorial    840\n"
     ]
    }
   ],
   "source": [
    "#Order events by descending value\n",
    "event_frequency_by_user.columns = ['event_name','users']\n",
    "event_frequency_by_user = event_frequency_by_user.sort_values(by = 'users', ascending = False)\n",
    "print(event_frequency_by_user)"
   ]
  },
  {
   "cell_type": "code",
   "execution_count": 17,
   "metadata": {},
   "outputs": [
    {
     "name": "stdout",
     "output_type": "stream",
     "text": [
      "                event_name  users      rate\n",
      "1         MainScreenAppear   7419  1.000000\n",
      "2       OffersScreenAppear   4593  0.619086\n",
      "0         CartScreenAppear   3734  0.503302\n",
      "3  PaymentScreenSuccessful   3539  0.477018\n",
      "4                 Tutorial    840  0.113223\n"
     ]
    }
   ],
   "source": [
    "#Get the proportion of users who move from one event to another relative to the initial 'MainScreenAppear' event\n",
    "event_frequency_by_user['rate'] = event_frequency_by_user['users'] / event_frequency_by_user['users'].max()\n",
    "print(event_frequency_by_user)"
   ]
  },
  {
   "cell_type": "markdown",
   "metadata": {},
   "source": [
    "I consider the main line of action to be \"MainScreenAppear\", \"OfferScreenAppear\", \"CartScreenAppear\" and \"PaymentScreenSuccessful\", in respective order, while \"Tutorial\" is an optional action for each user who needs help with the page, which very few use and which does not interfere with the main line."
   ]
  },
  {
   "cell_type": "code",
   "execution_count": 18,
   "metadata": {},
   "outputs": [
    {
     "name": "stdout",
     "output_type": "stream",
     "text": [
      "                event_name  users      rate  step_rate\n",
      "1         MainScreenAppear   7419  1.000000        NaN\n",
      "2       OffersScreenAppear   4593  0.619086   0.619086\n",
      "0         CartScreenAppear   3734  0.503302   0.812976\n",
      "3  PaymentScreenSuccessful   3539  0.477018   0.947777\n",
      "4                 Tutorial    840  0.113223   0.237355\n"
     ]
    }
   ],
   "source": [
    "#Get the proportion of users who move from one event to another relative to the previous event\n",
    "event_frequency_by_user['step_rate'] = event_frequency_by_user['users'] / event_frequency_by_user['users'].shift(1)\n",
    "print(event_frequency_by_user)"
   ]
  },
  {
   "cell_type": "code",
   "execution_count": 19,
   "metadata": {},
   "outputs": [
    {
     "data": {
      "image/png": "[encoded data removed]",
      "text/plain": [
       "<Figure size 640x480 with 1 Axes>"
      ]
     },
     "metadata": {},
     "output_type": "display_data"
    }
   ],
   "source": [
    "#PLot events to appreciate the funnel\n",
    "plt.bar(event_frequency_by_user['event_name'], event_frequency_by_user['users'])\n",
    "plt.xticks(rotation = 90)\n",
    "plt.title('Events Funnel')\n",
    "plt.show()"
   ]
  },
  {
   "cell_type": "markdown",
   "metadata": {},
   "source": [
    "Looking at the event funnel graph and the numerical description above, we can see that the event that loses the most users is 'OfferScreenAppear,' since just under 3,000 users were lost from the first 'MainScreenAppear' event. This means that nearly 38% of users never see the offer screen or even add something to their cart. However, this is typical for e-commerce sites, as many users may arrive looking for something other than what the site offers.\n",
    "\n",
    "On the other hand, it can be seen that 47% of users who visit the site place an order, meaning a very high conversion rate, which is great news for user behavior."
   ]
  },
  {
   "cell_type": "code",
   "execution_count": 20,
   "metadata": {},
   "outputs": [
    {
     "name": "stdout",
     "output_type": "stream",
     "text": [
      "Group 246 Users:  2484\n",
      "Group 247 Users:  2513\n",
      "Group 248 Users:  2537\n"
     ]
    }
   ],
   "source": [
    "#Encontrar cuantos usuarios únicos hay en cada grupo de prueba\n",
    "print('Group 246 Users: ', data[data['group'] == 246]['user_id'].nunique())\n",
    "print('Group 247 Users: ', data[data['group'] == 247]['user_id'].nunique())\n",
    "print('Group 248 Users: ', data[data['group'] == 248]['user_id'].nunique())"
   ]
  },
  {
   "cell_type": "code",
   "execution_count": 21,
   "metadata": {},
   "outputs": [],
   "source": [
    "#Define the function to find the statistical difference between groups by event using the nonparametric Wilcoxon-Mann-Whitney test\n",
    "def a_b_testing(group1, group2, event_name):\n",
    "\n",
    "    #Separate data by group\n",
    "    g1 = data[data['group'] == group1]\n",
    "    g2 = data[data['group'] == group2]\n",
    "\n",
    "    #Group groups by event type\n",
    "    event_by_users_g1 = g1[g1['event_name'] == event_name].groupby('user_id').agg({'user_id': pd.Series.nunique})\n",
    "    event_by_users_g2 = g2[g2['event_name'] == event_name].groupby('user_id').agg({'user_id': pd.Series.nunique})\n",
    "\n",
    "    #Do samples for the nonparametric Wilcoxon-Mann-Whitney test\n",
    "    sample_g1 = pd.concat([event_by_users_g1['user_id'], pd.Series(0, index = np.arange(data[data['group'] == group1]['user_id'].count() - \n",
    "                len(event_by_users_g1['user_id'])), name = 'event')], axis = 0)\n",
    "    sample_g2 = pd.concat([event_by_users_g2['user_id'], pd.Series(0, index = np.arange(data[data['group'] == group2]['user_id'].count() - \n",
    "                len(event_by_users_g2['user_id'])), name = 'event')], axis = 0)\n",
    "\n",
    "    #Statistical significance\n",
    "    alpha = 0.05\n",
    "\n",
    "    #P Value\n",
    "    p_value = stats.mannwhitneyu(sample_g1, sample_g2)[1]\n",
    "\n",
    "    #Answer\n",
    "    if p_value < alpha: \n",
    "        return f\"P Value: {p_value:.3f} Reject H0, there is statistical difference between {group1}/{group2} for the {event_name} event\"\n",
    "    else:\n",
    "        return f\"P Value: {p_value:.3f} Accept H0, there is no statistical difference between {group1}/{group2} for the {event_name} event\"\n",
    "  "
   ]
  },
  {
   "cell_type": "markdown",
   "metadata": {},
   "source": [
    "The significance level of 0.05 was chosen to be more stringent and reduce the margin of error, meaning that possibly 1 in every 20 results would be incorrect. After performing 15 tests, the results would fall within the range that would allow us to determine whether they are correct."
   ]
  },
  {
   "cell_type": "markdown",
   "metadata": {},
   "source": [
    "## **A/A Comparison**\n",
    "\n",
    "Se realiza la comparación de todos los eventos para los grupos 246 y 247"
   ]
  },
  {
   "cell_type": "code",
   "execution_count": 22,
   "metadata": {},
   "outputs": [
    {
     "data": {
      "text/plain": [
       "'P Value: 0.157 Accept H0, there is no statistical difference between 246/247 for the MainScreenAppear event'"
      ]
     },
     "execution_count": 22,
     "metadata": {},
     "output_type": "execute_result"
    }
   ],
   "source": [
    "a_b_testing(246, 247, 'MainScreenAppear')"
   ]
  },
  {
   "cell_type": "code",
   "execution_count": 23,
   "metadata": {},
   "outputs": [
    {
     "data": {
      "text/plain": [
       "'P Value: 0.681 Accept H0, there is no statistical difference between 246/247 for the OffersScreenAppear event'"
      ]
     },
     "execution_count": 23,
     "metadata": {},
     "output_type": "execute_result"
    }
   ],
   "source": [
    "a_b_testing(246, 247, 'OffersScreenAppear')"
   ]
  },
  {
   "cell_type": "code",
   "execution_count": 24,
   "metadata": {},
   "outputs": [
    {
     "data": {
      "text/plain": [
       "'P Value: 0.865 Accept H0, there is no statistical difference between 246/247 for the CartScreenAppear event'"
      ]
     },
     "execution_count": 24,
     "metadata": {},
     "output_type": "execute_result"
    }
   ],
   "source": [
    "a_b_testing(246, 247, 'CartScreenAppear')"
   ]
  },
  {
   "cell_type": "code",
   "execution_count": 25,
   "metadata": {},
   "outputs": [
    {
     "data": {
      "text/plain": [
       "'P Value: 1.000 Accept H0, there is no statistical difference between 246/247 for the PaymentScreenSuccesful event'"
      ]
     },
     "execution_count": 25,
     "metadata": {},
     "output_type": "execute_result"
    }
   ],
   "source": [
    "a_b_testing(246, 247, 'PaymentScreenSuccesful')"
   ]
  },
  {
   "cell_type": "code",
   "execution_count": 26,
   "metadata": {},
   "outputs": [
    {
     "data": {
      "text/plain": [
       "'P Value: 0.578 Accept H0, there is no statistical difference between 246/247 for the Tutorial event'"
      ]
     },
     "execution_count": 26,
     "metadata": {},
     "output_type": "execute_result"
    }
   ],
   "source": [
    "a_b_testing(246, 247, 'Tutorial')"
   ]
  },
  {
   "cell_type": "markdown",
   "metadata": {},
   "source": [
    "In all events for groups 246 and 247, no statistical differences were found in terms of users. Therefore, traffic distribution is carried out correctly."
   ]
  },
  {
   "cell_type": "markdown",
   "metadata": {},
   "source": [
    "## **A1/B Comparison**\n",
    "\n",
    "A comparison is made of all events for groups 246 and 248."
   ]
  },
  {
   "cell_type": "code",
   "execution_count": 27,
   "metadata": {},
   "outputs": [
    {
     "data": {
      "text/plain": [
       "'P Value: 0.092 Accept H0, there is no statistical difference between 246/248 for the MainScreenAppear event'"
      ]
     },
     "execution_count": 27,
     "metadata": {},
     "output_type": "execute_result"
    }
   ],
   "source": [
    "a_b_testing(246, 248, 'MainScreenAppear')"
   ]
  },
  {
   "cell_type": "markdown",
   "metadata": {},
   "source": [
    "Since there is no difference, it can be said that traffic is being distributed correctly in both groups."
   ]
  },
  {
   "cell_type": "code",
   "execution_count": 28,
   "metadata": {},
   "outputs": [
    {
     "data": {
      "text/plain": [
       "'P Value: 0.045 Reject H0, there is statistical difference between 246/248 for the OffersScreenAppear event'"
      ]
     },
     "execution_count": 28,
     "metadata": {},
     "output_type": "execute_result"
    }
   ],
   "source": [
    "a_b_testing(246, 248, 'OffersScreenAppear')"
   ]
  },
  {
   "cell_type": "markdown",
   "metadata": {},
   "source": [
    "There seems to be a difference between users who reach OffersScreenAppear in group B."
   ]
  },
  {
   "cell_type": "code",
   "execution_count": 29,
   "metadata": {},
   "outputs": [
    {
     "data": {
      "text/plain": [
       "'P Value: 0.019 Reject H0, there is statistical difference between 246/248 for the CartScreenAppear event'"
      ]
     },
     "execution_count": 29,
     "metadata": {},
     "output_type": "execute_result"
    }
   ],
   "source": [
    "a_b_testing(246, 248, 'CartScreenAppear')"
   ]
  },
  {
   "cell_type": "markdown",
   "metadata": {},
   "source": [
    "There seems to be a difference between users who reach CartScreenAppear in group B"
   ]
  },
  {
   "cell_type": "code",
   "execution_count": 30,
   "metadata": {},
   "outputs": [
    {
     "data": {
      "text/plain": [
       "'P Value: 1.000 Accept H0, there is no statistical difference between 246/248 for the PaymentScreenSuccesful event'"
      ]
     },
     "execution_count": 30,
     "metadata": {},
     "output_type": "execute_result"
    }
   ],
   "source": [
    "a_b_testing(246, 248, 'PaymentScreenSuccesful')"
   ]
  },
  {
   "cell_type": "markdown",
   "metadata": {},
   "source": [
    "There is no difference between groups when paying for an order, it seems that the same number of people place orders whether in group A1 or B."
   ]
  },
  {
   "cell_type": "code",
   "execution_count": 31,
   "metadata": {},
   "outputs": [
    {
     "data": {
      "text/plain": [
       "'P Value: 0.471 Accept H0, there is no statistical difference between 246/248 for the Tutorial event'"
      ]
     },
     "execution_count": 31,
     "metadata": {},
     "output_type": "execute_result"
    }
   ],
   "source": [
    "a_b_testing(246, 248, 'Tutorial')"
   ]
  },
  {
   "cell_type": "markdown",
   "metadata": {},
   "source": [
    "The traffic split for groups A1 and B was correct, there was a difference in the OffersScreenAppear and CartScreenAppear events, and finally there was no difference in the PaymentScreenSuccesful event, so it can be concluded that although group B may attract or retain more users, the conversion rate does not change compared to the control group A1."
   ]
  },
  {
   "cell_type": "markdown",
   "metadata": {},
   "source": [
    "## **A2/B Comparison**\n",
    "\n",
    "Comparison of all events for groups 247 and 248 is performed."
   ]
  },
  {
   "cell_type": "code",
   "execution_count": 32,
   "metadata": {},
   "outputs": [
    {
     "data": {
      "text/plain": [
       "'P Value: 0.002 Reject H0, there is statistical difference between 247/248 for the MainScreenAppear event'"
      ]
     },
     "execution_count": 32,
     "metadata": {},
     "output_type": "execute_result"
    }
   ],
   "source": [
    "a_b_testing(247, 248, 'MainScreenAppear')"
   ]
  },
  {
   "cell_type": "markdown",
   "metadata": {},
   "source": [
    "Since there is no difference, it can be said that traffic is being distributed correctly in both groups."
   ]
  },
  {
   "cell_type": "code",
   "execution_count": 33,
   "metadata": {},
   "outputs": [
    {
     "data": {
      "text/plain": [
       "'P Value: 0.016 Reject H0, there is statistical difference between 247/248 for the OffersScreenAppear event'"
      ]
     },
     "execution_count": 33,
     "metadata": {},
     "output_type": "execute_result"
    }
   ],
   "source": [
    "a_b_testing(247, 248, 'OffersScreenAppear')"
   ]
  },
  {
   "cell_type": "markdown",
   "metadata": {},
   "source": [
    "There seems to be a difference between users who reach CartScreenAppear in group B"
   ]
  },
  {
   "cell_type": "code",
   "execution_count": 34,
   "metadata": {},
   "outputs": [
    {
     "data": {
      "text/plain": [
       "'P Value: 0.012 Reject H0, there is statistical difference between 247/248 for the CartScreenAppear event'"
      ]
     },
     "execution_count": 34,
     "metadata": {},
     "output_type": "execute_result"
    }
   ],
   "source": [
    "a_b_testing(247, 248, 'CartScreenAppear')"
   ]
  },
  {
   "cell_type": "markdown",
   "metadata": {},
   "source": [
    "There seems to be a difference between users who reach CartScreenAppear in group B"
   ]
  },
  {
   "cell_type": "code",
   "execution_count": 35,
   "metadata": {},
   "outputs": [
    {
     "data": {
      "text/plain": [
       "'P Value: 1.000 Accept H0, there is no statistical difference between 247/248 for the PaymentScreenSuccesful event'"
      ]
     },
     "execution_count": 35,
     "metadata": {},
     "output_type": "execute_result"
    }
   ],
   "source": [
    "a_b_testing(247, 248, 'PaymentScreenSuccesful')"
   ]
  },
  {
   "cell_type": "markdown",
   "metadata": {},
   "source": [
    "There is no difference between groups when paying for an order, it seems that the same number of people place orders whether in group A2 or B."
   ]
  },
  {
   "cell_type": "code",
   "execution_count": 36,
   "metadata": {},
   "outputs": [
    {
     "data": {
      "text/plain": [
       "'P Value: 0.200 Accept H0, there is no statistical difference between 247/248 for the Tutorial event'"
      ]
     },
     "execution_count": 36,
     "metadata": {},
     "output_type": "execute_result"
    }
   ],
   "source": [
    "a_b_testing(247, 248, 'Tutorial')"
   ]
  },
  {
   "cell_type": "markdown",
   "metadata": {},
   "source": [
    "The traffic split for groups A2 and B was correct, there was a difference in the OffersScreenAppear and CartScreenAppear events, and finally there was no difference in the PaymentScreenSuccesful event, so it can be concluded that although group B may attract or retain more users, the conversion rate does not change compared to the control group A2."
   ]
  },
  {
   "cell_type": "markdown",
   "metadata": {},
   "source": [
    "## **Conclusion**\n",
    "\n",
    "Apparently group B has much better results in retaining users between 'MainScreenAppear' and 'CartScreenAppear', which indicates that more users are deciding to make a purchase, however, since no difference was obtained between group B and the control groups A1 and A2 on the 'PaymentScreenSuccesful' event, it is concluded that there is no difference in terms of conversion. Therefore, group B does not fulfill its main function, which is to increase the number of purchases per user, however, it is successful in terms of user retention between events. I consider that the test should be stopped and group B declared unsatisfactory."
   ]
  }
 ],
 "metadata": {
  "kernelspec": {
   "display_name": "Python [conda env:base] *",
   "language": "python",
   "name": "conda-base-py"
  },
  "language_info": {
   "codemirror_mode": {
    "name": "ipython",
    "version": 3
   },
   "file_extension": ".py",
   "mimetype": "text/x-python",
   "name": "python",
   "nbconvert_exporter": "python",
   "pygments_lexer": "ipython3",
   "version": "3.12.7"
  }
 },
 "nbformat": 4,
 "nbformat_minor": 4
}
